{
 "cells": [
  {
   "cell_type": "markdown",
   "metadata": {},
   "source": [
    "# Contents"
   ]
  },
  {
   "cell_type": "markdown",
   "metadata": {},
   "source": [
    "* [Compute runtimes](./compute-runtimes.ipynb): Creates and executes commands for timing taxonomic assignment processes as a function of reference database size and query database size (where size is number of sequences in both cases). If you're adding new methods to this comparison, you should re-run all of the commands as the runtimes are only comparable if they are computed on the same system.\n",
    "* [Analysis](./analysis.ipynb): Analysis of the runtimes of different methods."
   ]
  }
 ],
 "metadata": {
  "anaconda-cloud": {},
  "kernelspec": {
   "display_name": "Python [conda env:python-2.7]",
   "language": "python",
   "name": "conda-env-python-2.7-py"
  },
  "language_info": {
   "codemirror_mode": {
    "name": "ipython",
    "version": 2
   },
   "file_extension": ".py",
   "mimetype": "text/x-python",
   "name": "python",
   "nbconvert_exporter": "python",
   "pygments_lexer": "ipython2",
   "version": "2.7.12"
  }
 },
 "nbformat": 4,
 "nbformat_minor": 0
}
