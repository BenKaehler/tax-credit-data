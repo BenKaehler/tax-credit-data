{
 "cells": [
  {
   "cell_type": "markdown",
   "metadata": {},
   "source": [
    "## Generating simulated communities from natural community observations\n",
    "This notebook demonstrates how to generate a new simulated community from taxonomic assignments of a natural community. We use the following test datasets, which are pared down from natural communities from the linked studies.\n",
    "\n",
    "[Sake bacterial succession (bacterial 16S rRNA)](http://dx.doi.org/10.1128/AEM.00663-14))\n",
    "\n",
    "[Wine grape terroir (fungal ITS)](http://dx.doi.org/10.1128/mBio.00631-16))\n",
    "\n",
    "**NOTE:** the simulated communities described in this notebook are provided in the ``tax-credit`` repository and do not need to be generated again to test additional taxonomy classifiers. This notebook does not need to be re-run unless if using it to generate *NEW* simulated communities. If this is the case, remove the ``sake`` and ``wine`` communities from ``dataset_reference_combinations`` dictionary below before running that cell, to avoid overwriting data."
   ]
  },
  {
   "cell_type": "code",
   "execution_count": 1,
   "metadata": {
    "collapsed": false
   },
   "outputs": [],
   "source": [
    "from os.path import join, expandvars \n",
    "from tax_credit.simulated_communities import generate_simulated_communities"
   ]
  },
  {
   "cell_type": "code",
   "execution_count": 2,
   "metadata": {
    "collapsed": false
   },
   "outputs": [],
   "source": [
    "# Project directory\n",
    "project_dir = expandvars(\"$HOME/Desktop/projects/tax-credit/\")\n",
    "# Directory containing reference sequence databases\n",
    "reference_database_dir = join(project_dir, 'data', 'ref_dbs')\n",
    "# simulated communities directory\n",
    "sim_dir = join(project_dir, \"data\", \"simulated-community\")"
   ]
  },
  {
   "cell_type": "markdown",
   "metadata": {
    "collapsed": false
   },
   "source": [
    "In the following cell, we define the natural datasets that we want to use for simulated community generation. The directory for each dataset is located in ``sim_dir``, and contains the files ``expected-composition.txt``, containing the taxonomic composition of each sample, and ``map.txt``, containing sample metadata."
   ]
  },
  {
   "cell_type": "code",
   "execution_count": 3,
   "metadata": {
    "collapsed": false
   },
   "outputs": [],
   "source": [
    "dataset_reference_combinations = [\n",
    "    # (community_name, ref_db)\n",
    "    ('sake', 'gg_13_8_otus'),\n",
    "    ('wine', 'unite_20.11.2016')\n",
    "]\n",
    "\n",
    "reference_dbs = {'gg_13_8_otus' : (join(reference_database_dir, 'gg_13_8_otus/99_otus_clean_515f-806r_trim250.fasta'), \n",
    "                                   join(reference_database_dir, 'gg_13_8_otus/99_otu_taxonomy_clean.tsv')),\n",
    "                 'unite_20.11.2016' : (join(reference_database_dir, 'unite_20.11.2016/sh_refs_qiime_ver7_99_20.11.2016_dev_clean_BITSf-B58S3r_trim250.fasta'), \n",
    "                                       join(reference_database_dir, 'unite_20.11.2016/sh_taxonomy_qiime_ver7_99_20.11.2016_dev_clean.tsv'))}"
   ]
  },
  {
   "cell_type": "markdown",
   "metadata": {},
   "source": [
    "The following cell will generate:\n",
    "    1. Simulated compositions in tsv format.\n",
    "    2. biom tables for simulated-compositions and expected-composition.\n",
    "    3. A fasta file containing \"representative sequences\" for each \"OTU\",\n",
    "        i.e., reference sequences matching the expected taxa, up to strain_max\n",
    "        sequences per taxonomy.\n",
    "We will set strain_max to indicate the maximum number of reference sequences we will match to each taxonomy in expected-taxonomy.txt"
   ]
  },
  {
   "cell_type": "code",
   "execution_count": 4,
   "metadata": {
    "collapsed": false
   },
   "outputs": [
    {
     "name": "stdout",
     "output_type": "stream",
     "text": [
      "sake: 0 matches and 8 near matches.\n",
      "wine: 2 matches and 5 near matches.\n"
     ]
    }
   ],
   "source": [
    "generate_simulated_communities(sim_dir, dataset_reference_combinations, reference_dbs, strain_max=5)"
   ]
  },
  {
   "cell_type": "markdown",
   "metadata": {},
   "source": [
    "These communities have relatively few matches (exact taxonomy matches to species level), and more near matches (most likely to genus level). If we examine the ``expected-composition.txt`` files, we see that this is because most of the sequences in these natural communities were only assigned to genus level. This is a common situation and informs how we analyze the communities later on — e.g., we may want to perform certain comparisons at genus level."
   ]
  },
  {
   "cell_type": "code",
   "execution_count": null,
   "metadata": {
    "collapsed": true
   },
   "outputs": [],
   "source": []
  }
 ],
 "metadata": {
  "anaconda-cloud": {},
  "kernelspec": {
   "display_name": "Python [default]",
   "language": "python",
   "name": "python3"
  },
  "language_info": {
   "codemirror_mode": {
    "name": "ipython",
    "version": 3
   },
   "file_extension": ".py",
   "mimetype": "text/x-python",
   "name": "python",
   "nbconvert_exporter": "python",
   "pygments_lexer": "ipython3",
   "version": "3.5.2"
  }
 },
 "nbformat": 4,
 "nbformat_minor": 1
}
