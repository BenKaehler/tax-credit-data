{
 "cells": [
  {
   "cell_type": "markdown",
   "metadata": {},
   "source": [
    "# Mock community dataset generation\n",
    "\n",
    "Run in a [qiime 2.0.6 conda environment](https://docs.qiime2.org/2.0.6/install/).\n",
    "\n",
    "This notebook describes how mock community datasets were retrieved and files were generated for tax-credit comparisons. Only the feature tables, metadata maps, representative sequences, and expected taxonomies are included in tax-credit, but this notebook can regenerate intermediate files, generate these files for new mock communities, or tweaked to benchmark, e.g., quality control or OTU picking methods.\n",
    "\n",
    "All mock communities are hosted on [mockrobiota](http://caporasolab.us/mockrobiota/), though raw reads are deposited elsewhere. To use these mock communities, clone the ``mockrobiota`` repository into the ``repo_dir`` that contains the tax-credit repository."
   ]
  },
  {
   "cell_type": "code",
   "execution_count": 1,
   "metadata": {
    "collapsed": false
   },
   "outputs": [],
   "source": [
    "from tax_credit.process_mocks import (extract_mockrobiota_dataset_metadata,\n",
    "                                      extract_mockrobiota_data,\n",
    "                                      batch_demux,\n",
    "                                      denoise_to_phylogeny,\n",
    "                                      transport_to_repo\n",
    "                                     )\n",
    "from os.path import expandvars, join"
   ]
  },
  {
   "cell_type": "markdown",
   "metadata": {},
   "source": [
    "Set source/destination filepaths"
   ]
  },
  {
   "cell_type": "code",
   "execution_count": 2,
   "metadata": {
    "collapsed": false
   },
   "outputs": [],
   "source": [
    "# base directory containing tax-credit and mockrobiota repositories\n",
    "project_dir = expandvars(\"$HOME/Desktop/projects/\")\n",
    "# tax-credit directory\n",
    "repo_dir = join(project_dir, \"tax-credit\")\n",
    "# mockrobiota directory\n",
    "mockrobiota_dir = join(project_dir, \"mockrobiota\")\n",
    "# temp destination for mock community files\n",
    "mock_data_dir = join(project_dir, \"mock-community\")\n",
    "# destination for expected taxonomy assignments\n",
    "expected_data_dir = join(repo_dir, \"data\", \"precomputed-results\", \"mock-community\")\n"
   ]
  },
  {
   "cell_type": "markdown",
   "metadata": {},
   "source": [
    "First we will define which mock communities we plan to use, and necessary parameters"
   ]
  },
  {
   "cell_type": "code",
   "execution_count": 5,
   "metadata": {
    "collapsed": false
   },
   "outputs": [],
   "source": [
    "# We will just use a sequential set of mockrobiota datasets, otherwise list community names manually\n",
    "communities = ['mock-{0}'.format(n) for n in range(1,27) if n != 11 and n != 17]\n",
    "#communities = ['mock-{0}'.format(n) for n in range(16,27) if n != 17]\n",
    "\n",
    "# Create dictionary of mock community dataset metadata\n",
    "community_metadata = extract_mockrobiota_dataset_metadata(mockrobiota_dir, communities)\n",
    "\n",
    "# Map marker-gene to reference database names in tax-credit and in mockrobiota\n",
    "#           marker-gene  tax-credit-dir  mockrobiota-dir version\n",
    "reference_dbs = {'16S' : ('gg_13_8_otus', 'greengenes', '13-8', '99-otus'),\n",
    "                 'ITS' : ('unite_20.11.2016', 'unite', '7-1', '99-otus')\n",
    "                }"
   ]
  },
  {
   "cell_type": "markdown",
   "metadata": {},
   "source": [
    "Now we will generate data directories in ``tax-credit`` for each community and begin populating these will files from ``mockrobiota``. This may take some time, as this involves downloading raw data fastq files."
   ]
  },
  {
   "cell_type": "code",
   "execution_count": 6,
   "metadata": {
    "collapsed": false
   },
   "outputs": [],
   "source": [
    "extract_mockrobiota_data(communities, community_metadata, reference_dbs, \n",
    "                         mockrobiota_dir, mock_data_dir, \n",
    "                         expected_data_dir)"
   ]
  },
  {
   "cell_type": "markdown",
   "metadata": {},
   "source": [
    "## Process data in QIIME2\n",
    "Finally, we can get to processing our data. We begin by importing our data, demultiplexing, and viewing a few fastq quality summaries to decide how to trim our raw reads prior to processing."
   ]
  },
  {
   "cell_type": "markdown",
   "metadata": {},
   "source": [
    "Each dataset may require different parameters. For example, some mock communities used here require different barcode orientations, while others may already be demultiplexed. These parameters may be read in as a dictionary of tuples."
   ]
  },
  {
   "cell_type": "code",
   "execution_count": 5,
   "metadata": {
    "collapsed": false
   },
   "outputs": [],
   "source": [
    "# {community : (demultiplex, rev_comp_barcodes, rev_comp_mapping_barcodes)}\n",
    "demux_params = {'mock-1' : (True, False, True),\n",
    "               'mock-2' : (True, False, True),\n",
    "               'mock-3' : (True, False, False),\n",
    "               'mock-4' : (True, False, True),\n",
    "               'mock-5' : (True, False, True),\n",
    "               'mock-6' : (True, False, True),\n",
    "               'mock-7' : (True, False, True),\n",
    "               'mock-8' : (True, False, True),\n",
    "               'mock-9' : (True, False, True),\n",
    "               'mock-10' : (True, False, True),\n",
    "               'mock-12' : (False, False, False),\n",
    "               'mock-13' : (False, False, False),\n",
    "               'mock-14' : (False, False, False),\n",
    "               'mock-15' : (False, False, False),\n",
    "               'mock-16' : (False, False, False),\n",
    "               'mock-18' : (False, False, False),\n",
    "               'mock-19' : (False, False, False),\n",
    "               'mock-20' : (False, False, False),\n",
    "               'mock-21' : (False, False, False),\n",
    "               'mock-22' : (False, False, False),\n",
    "               'mock-23' : (False, False, False),\n",
    "               'mock-24' : (False, False, False),\n",
    "               'mock-25' : (False, False, False),\n",
    "               'mock-26' : (True, False, False), # Note we only use samples 1-40 in mock-26\n",
    "              }"
   ]
  },
  {
   "cell_type": "code",
   "execution_count": 11,
   "metadata": {
    "collapsed": false
   },
   "outputs": [
    {
     "name": "stdout",
     "output_type": "stream",
     "text": [
      "Running external command line application(s). This may print messages to stdout and/or stderr.\n",
      "The command(s) being run are below. These commands cannot be manually re-run as they will depend on temporary files that no longer exist.\n",
      "\n",
      "Command: profile_quality.R /var/folders/0t/l1dz88p50y91vx_22fx5w3780000gn/T/qiime2-archive-76msra6p/afcab3fa-5269-4149-a691-769b33a7f68a/data/Mock.43_3_L001_R1_001.fastq.gz /var/folders/0t/l1dz88p50y91vx_22fx5w3780000gn/T/qiime2-temp-h9ty55hk\n",
      "\n",
      "mock-26 complete\n"
     ]
    }
   ],
   "source": [
    "batch_demux(communities, mock_data_dir, demux_params)"
   ]
  },
  {
   "cell_type": "markdown",
   "metadata": {},
   "source": [
    "To view the ``demux_summary.qzv`` (demultiplexed sequences per sample counts) and ``demux_plot_qual.qzv`` (fastq quality profiles) summaries that you just created, drag and drop the files into [q2view](https://view.qiime2.org/)"
   ]
  },
  {
   "cell_type": "markdown",
   "metadata": {},
   "source": [
    "Use the fastq quality data above to decide how to proceed. As each dataset will have different quality profiles and read lengths, we will enter trimming parameters as a dictionary. We can use this dict to pass other parameters to ``denoise_to_phylogeny()``, including whether we want to build a phylogeny for each community."
   ]
  },
  {
   "cell_type": "code",
   "execution_count": 8,
   "metadata": {
    "collapsed": false
   },
   "outputs": [],
   "source": [
    "# {community : (trim_left, trunc_len, build_phylogeny)}\n",
    "trim_params = {'mock-1' : (0, 100, True),\n",
    "               'mock-2' : (0, 130, True),\n",
    "               'mock-3' : (0, 150, True),\n",
    "               'mock-4' : (0, 150, True),\n",
    "               'mock-5' : (0, 200, True),\n",
    "               'mock-6' : (0, 50, True),\n",
    "               'mock-7' : (0, 90, True),\n",
    "               'mock-8' : (0, 100, True),\n",
    "               'mock-9' : (0, 100, False),\n",
    "               'mock-10' : (0, 100, False),\n",
    "               'mock-12' : (0, 230, True),\n",
    "               'mock-13' : (0, 250, True),\n",
    "               'mock-14' : (0, 250, True),\n",
    "               'mock-15' : (0, 250, True),\n",
    "               'mock-16' : (19, 231, False),\n",
    "               'mock-18' : (19, 231, False),\n",
    "               'mock-19' : (19, 231, False),\n",
    "               'mock-20' : (0, 250, False),\n",
    "               'mock-21' : (0, 250, False),\n",
    "               'mock-22' : (19, 250, False),\n",
    "               'mock-23' : (19, 250, False),\n",
    "               'mock-24' : (0, 150, False),\n",
    "               'mock-25' : (0, 165, False),\n",
    "               'mock-26' : (0, 290, False),\n",
    "              }"
   ]
  },
  {
   "cell_type": "markdown",
   "metadata": {},
   "source": [
    "Now we will quality filter with ``dada2``, and use the representative sequences to generate a phylogeny."
   ]
  },
  {
   "cell_type": "code",
   "execution_count": 12,
   "metadata": {
    "collapsed": false
   },
   "outputs": [
    {
     "name": "stdout",
     "output_type": "stream",
     "text": [
      "Running external command line application(s). This may print messages to stdout and/or stderr.\n",
      "The command(s) being run are below. These commands cannot be manually re-run as they will depend on temporary files that no longer exist.\n",
      "\n",
      "Command: run_dada_single.R /var/folders/0t/l1dz88p50y91vx_22fx5w3780000gn/T/qiime2-archive-_ikw6mgm/afcab3fa-5269-4149-a691-769b33a7f68a/data /var/folders/0t/l1dz88p50y91vx_22fx5w3780000gn/T/tmp6zwtzo4b/output.tsv.biom /var/folders/0t/l1dz88p50y91vx_22fx5w3780000gn/T/tmp6zwtzo4b 290 0 2.0 2 1 1000000\n",
      "\n",
      "mock-26 complete\n"
     ]
    }
   ],
   "source": [
    "denoise_to_phylogeny(communities, mock_data_dir, trim_params)"
   ]
  },
  {
   "cell_type": "markdown",
   "metadata": {},
   "source": [
    "To view the ``feature_table_summary.qzv`` summaries you just created, drag and drop the files into [q2view](https://view.qiime2.org/)"
   ]
  },
  {
   "cell_type": "markdown",
   "metadata": {},
   "source": [
    "## Extract results and move to repo"
   ]
  },
  {
   "cell_type": "code",
   "execution_count": 13,
   "metadata": {
    "collapsed": false
   },
   "outputs": [],
   "source": [
    "transport_to_repo(communities, mock_data_dir, repo_dir)"
   ]
  },
  {
   "cell_type": "code",
   "execution_count": null,
   "metadata": {
    "collapsed": true
   },
   "outputs": [],
   "source": []
  }
 ],
 "metadata": {
  "anaconda-cloud": {},
  "kernelspec": {
   "display_name": "Python 3",
   "language": "python",
   "name": "python3"
  },
  "language_info": {
   "codemirror_mode": {
    "name": "ipython",
    "version": 3
   },
   "file_extension": ".py",
   "mimetype": "text/x-python",
   "name": "python",
   "nbconvert_exporter": "python",
   "pygments_lexer": "ipython3",
   "version": "3.5.2"
  }
 },
 "nbformat": 4,
 "nbformat_minor": 1
}
