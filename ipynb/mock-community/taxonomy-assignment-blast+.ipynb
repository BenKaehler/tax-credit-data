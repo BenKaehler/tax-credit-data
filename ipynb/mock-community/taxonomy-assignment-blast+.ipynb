{
 "cells": [
  {
   "cell_type": "markdown",
   "metadata": {},
   "source": [
    "# Data generation: using python to sweep over methods and parameters"
   ]
  },
  {
   "cell_type": "markdown",
   "metadata": {},
   "source": [
    "This notebook demonstrates taxonomy classification using ``blast+`` followed by consensus assignment in QIIME2's ``q2-feature-classifier``."
   ]
  },
  {
   "cell_type": "markdown",
   "metadata": {},
   "source": [
    "## Environment preparation"
   ]
  },
  {
   "cell_type": "code",
   "execution_count": 1,
   "metadata": {
    "collapsed": false
   },
   "outputs": [],
   "source": [
    "from os.path import join, expandvars\n",
    "from joblib import Parallel, delayed\n",
    "from glob import glob\n",
    "from os import system\n",
    "from tax_credit.framework_functions import (parameter_sweep,\n",
    "                                            generate_per_method_biom_tables,\n",
    "                                            move_results_to_repository)\n"
   ]
  },
  {
   "cell_type": "code",
   "execution_count": 2,
   "metadata": {
    "collapsed": false
   },
   "outputs": [],
   "source": [
    "project_dir = expandvars(\"$HOME/Desktop/projects/tax-credit\")\n",
    "analysis_name= \"mock-community\"\n",
    "data_dir = join(project_dir, \"data\", analysis_name)\n",
    "\n",
    "reference_database_dir = expandvars(\"$HOME/Desktop/ref_dbs/\")\n",
    "results_dir = expandvars(\"$HOME/Desktop/projects/mock-community/\")"
   ]
  },
  {
   "cell_type": "markdown",
   "metadata": {},
   "source": [
    "## Preparing data set sweep"
   ]
  },
  {
   "cell_type": "markdown",
   "metadata": {},
   "source": [
    "First, we're going to define the data sets that we'll sweep over. The following cell does not need to be modified unless if you wish to change the datasets or reference databases used in the sweep."
   ]
  },
  {
   "cell_type": "code",
   "execution_count": 3,
   "metadata": {
    "collapsed": false
   },
   "outputs": [],
   "source": [
    "dataset_reference_combinations = [\n",
    " ('mock-1', 'gg_13_8_otus'), # formerly S16S-1\n",
    " ('mock-2', 'gg_13_8_otus'), # formerly S16S-2\n",
    " ('mock-3', 'gg_13_8_otus'), # formerly Broad-1\n",
    " ('mock-4', 'gg_13_8_otus'), # formerly Broad-2\n",
    " ('mock-5', 'gg_13_8_otus'), # formerly Broad-3\n",
    " ('mock-6', 'gg_13_8_otus'), # formerly Turnbaugh-1\n",
    " ('mock-7', 'gg_13_8_otus'), # formerly Turnbaugh-2\n",
    " ('mock-8', 'gg_13_8_otus'), # formerly Turnbaugh-3\n",
    " ('mock-9', 'unite_20.11.2016_clean_fullITS'), # formerly ITS1\n",
    " ('mock-10', 'unite_20.11.2016_clean_fullITS'), # formerly ITS2-SAG\n",
    " ('mock-12', 'gg_13_8_otus'), # Extreme\n",
    " ('mock-13', 'gg_13_8_otus_full16S_clean'), # kozich-1\n",
    " ('mock-14', 'gg_13_8_otus_full16S_clean'), # kozich-2\n",
    " ('mock-15', 'gg_13_8_otus_full16S_clean'), # kozich-3\n",
    " ('mock-16', 'gg_13_8_otus'), # schirmer-1\n",
    " ('mock-18', 'gg_13_8_otus'),\n",
    " ('mock-19', 'gg_13_8_otus'),\n",
    " ('mock-20', 'gg_13_8_otus'),\n",
    " ('mock-21', 'gg_13_8_otus'),\n",
    " ('mock-22', 'gg_13_8_otus'),\n",
    " ('mock-23', 'gg_13_8_otus'),\n",
    " ('mock-24', 'unite_20.11.2016_clean_fullITS'),\n",
    " ('mock-25', 'unite_20.11.2016_clean_fullITS'),\n",
    " ('mock-26-ITS1', 'unite_20.11.2016_clean_fullITS'),\n",
    " ('mock-26-ITS9', 'unite_20.11.2016_clean_fullITS'),\n",
    "]\n",
    "\n",
    "reference_dbs = {'gg_13_8_otus_clean' : (join(reference_database_dir, 'gg_13_8_otus/99_otus_clean_515f-806r.qza'),\n",
    "                                         join(reference_database_dir, 'gg_13_8_otus/taxonomy/99_otu_taxonomy.qza')),\n",
    "                 'gg_13_8_otus' : (join(reference_database_dir, 'gg_13_8_otus/rep_set/99_otus_515f-806r_trim250.qza'), \n",
    "                                   join(reference_database_dir, 'gg_13_8_otus/taxonomy/99_otu_taxonomy.qza')),\n",
    "                 'gg_13_8_otus_full16S_clean' : (join(reference_database_dir, 'gg_13_8_otus/99_otus_clean.qza'), \n",
    "                                                 join(reference_database_dir, 'gg_13_8_otus/taxonomy/99_otu_taxonomy.qza')),\n",
    "                 'gg_13_8_otus_full16S' : (join(reference_database_dir, 'gg_13_8_otus/rep_set/99_otus.qza'), \n",
    "                                           join(reference_database_dir, 'gg_13_8_otus/taxonomy/99_otu_taxonomy.qza')),\n",
    "                 'unite_20.11.2016_clean_fullITS' : (join(reference_database_dir, 'sh_qiime_release_20.11.2016/developer/sh_refs_qiime_ver7_99_20.11.2016_dev_clean.qza'), \n",
    "                                   join(reference_database_dir, 'sh_qiime_release_20.11.2016/developer/sh_taxonomy_qiime_ver7_99_20.11.2016_dev_clean.qza')),\n",
    "                 'unite_20.11.2016_clean' : (join(reference_database_dir, 'sh_qiime_release_20.11.2016/developer/sh_refs_qiime_ver7_99_20.11.2016_dev_clean_ITS1Ff-ITS2r.qza'), \n",
    "                                             join(reference_database_dir, 'sh_qiime_release_20.11.2016/developer/sh_taxonomy_qiime_ver7_99_20.11.2016_dev.qza')),\n",
    "                 'unite_20.11.2016' : (join(reference_database_dir, 'sh_qiime_release_20.11.2016/developer/sh_refs_qiime_ver7_99_20.11.2016_dev_ITS1Ff-ITS2r_trim250.qza'), \n",
    "                                       join(reference_database_dir, 'sh_qiime_release_20.11.2016/developer/sh_taxonomy_qiime_ver7_99_20.11.2016_dev.qza'))}\n"
   ]
  },
  {
   "cell_type": "markdown",
   "metadata": {},
   "source": [
    "## Preparing the method/parameter combinations and generating commands\n",
    "\n",
    "Now we set the methods and method-specific parameters that we want to sweep. Modify to sweep other methods. Note how method_parameters_combinations feeds method/parameter combinations to parameter_sweep() in the cell below."
   ]
  },
  {
   "cell_type": "code",
   "execution_count": 4,
   "metadata": {
    "collapsed": false
   },
   "outputs": [],
   "source": [
    "method_parameters_combinations = {\n",
    "              'blast+' : {'p-evalue': [0.001],\n",
    "                          'p-maxaccepts': [1, 10, 100],\n",
    "                          'p-perc-identity': [0.80, 0.97, 0.99],\n",
    "                          'p-min-consensus': [0.51, 0.75, 0.99]}\n",
    "             }"
   ]
  },
  {
   "cell_type": "markdown",
   "metadata": {},
   "source": [
    "Now enter the template of the command to sweep, and generate a list of commands with ``parameter_sweep()``.\n",
    "\n",
    "Fields must adhere to following format:\n",
    "\n",
    "                      {0} = output directory\n",
    "                      {1} = input data\n",
    "                      {2} = reference sequences\n",
    "                      {3} = reference taxonomy\n",
    "                      {4} = method name\n",
    "                      {5} = other parameters"
   ]
  },
  {
   "cell_type": "code",
   "execution_count": 5,
   "metadata": {
    "collapsed": false
   },
   "outputs": [],
   "source": [
    "command_template = \"mkdir -p {0}; qiime feature-classifier blast --i-query {1} --o-classification {0}/rep_seqs_tax_assignments.qza --i-reference-reads {2} --i-reference-taxonomy {3} {5}; qiime tools export {0}/rep_seqs_tax_assignments.qza --output-dir {0}\"\n",
    "        \n",
    "commands = parameter_sweep(data_dir, results_dir, reference_dbs,\n",
    "                           dataset_reference_combinations,\n",
    "                           method_parameters_combinations, command_template,\n",
    "                           infile='rep_seqs.qza', output_name='rep_seqs_tax_assignments.qza')\n"
   ]
  },
  {
   "cell_type": "markdown",
   "metadata": {},
   "source": [
    "As a sanity check, we can look at the first command that was generated and the number of commands generated."
   ]
  },
  {
   "cell_type": "code",
   "execution_count": 6,
   "metadata": {
    "collapsed": false
   },
   "outputs": [
    {
     "name": "stdout",
     "output_type": "stream",
     "text": [
      "54\n"
     ]
    },
    {
     "data": {
      "text/plain": [
       "'mkdir -p /Users/nbokulich/Desktop/projects/mock-community/mock-26-ITS1/unite_20.11.2016_clean_fullITS/blast+/0.001:1:0.51:0.8; qiime feature-classifier blast --i-query /Users/nbokulich/Desktop/projects/tax-credit/data/mock-community/mock-26-ITS1/rep_seqs.qza --o-classification /Users/nbokulich/Desktop/projects/mock-community/mock-26-ITS1/unite_20.11.2016_clean_fullITS/blast+/0.001:1:0.51:0.8/rep_seqs_tax_assignments.qza --i-reference-reads /Users/nbokulich/Desktop/ref_dbs/sh_qiime_release_20.11.2016/developer/sh_refs_qiime_ver7_99_20.11.2016_dev_clean.qza --i-reference-taxonomy /Users/nbokulich/Desktop/ref_dbs/sh_qiime_release_20.11.2016/developer/sh_taxonomy_qiime_ver7_99_20.11.2016_dev_clean.qza --p-evalue 0.001 --p-min-consensus 0.51 --p-maxaccepts 1 --p-perc-identity 0.8; qiime tools export /Users/nbokulich/Desktop/projects/mock-community/mock-26-ITS1/unite_20.11.2016_clean_fullITS/blast+/0.001:1:0.51:0.8/rep_seqs_tax_assignments.qza --output-dir /Users/nbokulich/Desktop/projects/mock-community/mock-26-ITS1/unite_20.11.2016_clean_fullITS/blast+/0.001:1:0.51:0.8'"
      ]
     },
     "execution_count": 6,
     "metadata": {},
     "output_type": "execute_result"
    }
   ],
   "source": [
    "print(len(commands))\n",
    "commands[0]"
   ]
  },
  {
   "cell_type": "markdown",
   "metadata": {},
   "source": [
    "Finally, we run our commands."
   ]
  },
  {
   "cell_type": "code",
   "execution_count": 7,
   "metadata": {
    "collapsed": false
   },
   "outputs": [
    {
     "data": {
      "text/plain": [
       "[0,\n",
       " 0,\n",
       " 0,\n",
       " 0,\n",
       " 0,\n",
       " 0,\n",
       " 0,\n",
       " 0,\n",
       " 0,\n",
       " 0,\n",
       " 0,\n",
       " 0,\n",
       " 0,\n",
       " 0,\n",
       " 0,\n",
       " 0,\n",
       " 0,\n",
       " 0,\n",
       " 0,\n",
       " 0,\n",
       " 0,\n",
       " 0,\n",
       " 0,\n",
       " 0,\n",
       " 0,\n",
       " 0,\n",
       " 0,\n",
       " 0,\n",
       " 0,\n",
       " 0,\n",
       " 0,\n",
       " 0,\n",
       " 0,\n",
       " 0,\n",
       " 0,\n",
       " 0,\n",
       " 0,\n",
       " 0,\n",
       " 0,\n",
       " 0,\n",
       " 0,\n",
       " 0,\n",
       " 0,\n",
       " 0,\n",
       " 0,\n",
       " 0,\n",
       " 0,\n",
       " 0,\n",
       " 0,\n",
       " 0,\n",
       " 0,\n",
       " 0,\n",
       " 0,\n",
       " 0]"
      ]
     },
     "execution_count": 7,
     "metadata": {},
     "output_type": "execute_result"
    }
   ],
   "source": [
    "Parallel(n_jobs=4)(delayed(system)(command) for command in commands)"
   ]
  },
  {
   "cell_type": "markdown",
   "metadata": {},
   "source": [
    "## Generate per-method biom tables\n",
    "\n",
    "Modify the taxonomy_glob below to point to the taxonomy assignments that were generated above. This may be necessary if filepaths were altered in the preceding cells."
   ]
  },
  {
   "cell_type": "code",
   "execution_count": 8,
   "metadata": {
    "collapsed": false
   },
   "outputs": [],
   "source": [
    "taxonomy_glob = join(results_dir, '*', '*', '*', '*', 'taxonomy.tsv')\n",
    "generate_per_method_biom_tables(taxonomy_glob, data_dir)"
   ]
  },
  {
   "cell_type": "markdown",
   "metadata": {},
   "source": [
    "## Move result files to repository\n",
    "\n",
    "Add results to the tax-credit directory (e.g., to push these results to the repository or compare with other precomputed results in downstream analysis steps). The precomputed_results_dir path and methods_dirs glob below should not need to be changed unless if substantial changes were made to filepaths in the preceding cells."
   ]
  },
  {
   "cell_type": "code",
   "execution_count": 9,
   "metadata": {
    "collapsed": false
   },
   "outputs": [],
   "source": [
    "precomputed_results_dir = join(project_dir, \"data\", \"precomputed-results\", analysis_name)\n",
    "method_dirs = glob(join(results_dir, '*', '*', '*', '*'))\n",
    "move_results_to_repository(method_dirs, precomputed_results_dir)"
   ]
  },
  {
   "cell_type": "code",
   "execution_count": null,
   "metadata": {
    "collapsed": true
   },
   "outputs": [],
   "source": []
  }
 ],
 "metadata": {
  "anaconda-cloud": {},
  "kernelspec": {
   "display_name": "Python 3",
   "language": "python",
   "name": "python3"
  },
  "language_info": {
   "codemirror_mode": {
    "name": "ipython",
    "version": 3
   },
   "file_extension": ".py",
   "mimetype": "text/x-python",
   "name": "python",
   "nbconvert_exporter": "python",
   "pygments_lexer": "ipython3",
   "version": "3.5.2"
  }
 },
 "nbformat": 4,
 "nbformat_minor": 0
}
