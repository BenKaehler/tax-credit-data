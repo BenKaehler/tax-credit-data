{
 "cells": [
  {
   "cell_type": "markdown",
   "metadata": {},
   "source": [
    "# Format reference databases\n",
    "This notebook describes how to format reference databases for taxonomy classification. Taxonomy classification will be more accurate, and faster, if the reference sequences are trimmed to the same region and read length as query sequences. In the case of marker gene sequences, this means that the reference dataset should consist of simulated amplicons. **This notebook only needs to be run once for a given reference database/primer combination** unless if changing the length of the trimmed reference sequences.\n",
    "\n",
    "The first step is to retrieve an appropriate reference database. We will use the [Greengenes 13_8 QIIME release](ftp://greengenes.microbio.me/greengenes_release/gg_13_5/gg_13_8_otus.tar.gz) for classification of 16S rRNA sequences, and [UNITE v. 7.1](https://unite.ut.ee/sh_files/sh_qiime_release_20.11.2016.zip) for fungal ITS sequences. Here we will use \"cleaned\" versions that have ambiguous taxa strings removed, which are located in the tax-credit [reference sequence collection](../../data/ref_dbs/). These are the most recent versions at the time of writing, but you may wish to check for more recent updates for [Greengenes](http://qiime.org/home_static/dataFiles.html) and [UNITE](https://unite.ut.ee/repository.php), and re-\"clean\" using [this notebook](../novel-taxa/novel-taxa-database-generation.ipynb) (or, more directly, use ``tax_credit.framework_functions.clean_database()``).\n",
    "\n",
    "Any other database(s) may be used, simply provide the filepath to the desired database(s) in the cell below.\n",
    "\n",
    "In the following cell, we define the filepaths of the reference databases that we wish to trim, as well as the primers that we will use for trimming. We will use the standard 515f/806r primers for 16S rRNA V4 domain, and BITSf/B58S3r primers for fungal ITS1 domain."
   ]
  },
  {
   "cell_type": "code",
   "execution_count": 3,
   "metadata": {},
   "outputs": [],
   "source": [
    "from os.path import expandvars, join, splitext, exists, basename\n",
    "\n",
    "from skbio import DNA\n",
    "import qiime2\n",
    "from qiime2.plugins import feature_classifier\n"
   ]
  },
  {
   "cell_type": "code",
   "execution_count": 4,
   "metadata": {},
   "outputs": [],
   "source": [
    "# Define the read length to use. This should be the same length, or larger, \n",
    "# than the actual lengths of your sequence reads.\n",
    "read_length = 250\n",
    "\n",
    "# Define the minimum acceptable amplicon length\n",
    "min_read_length = 80\n",
    "\n",
    "# Filepath to directory that contains all reference dataset directories\n",
    "reference_database_dir = expandvars(\"$HOME/Desktop/ref_dbs/\")\n",
    "\n",
    "# Dictionary of reference dataset names and filepaths to references sequences\n",
    "# and taxonomy file for each.\n",
    "# Format: {dataset-name : (reference sequences, forward primer sequence, \n",
    "#                          reverse primer sequence, name of primer pair)}\n",
    "reference_dbs = {'gg_13_8_otus' : (join(reference_database_dir, \n",
    "                                        'gg_13_8_otus/rep_set/99_otus.fasta'), \n",
    "                                   join(reference_database_dir, \n",
    "                                        'gg_13_8_otus/taxonomy/99_otu_taxonomy.txt'),\n",
    "                                   \"GTGCCAGCMGCCGCGGTAA\", \n",
    "                                   \"GGACTACNVGGGTWTCTAAT\",\n",
    "                                   \"515f-806r\"),\n",
    "                 'unite-7.1' : (join(reference_database_dir,\n",
    "                                     'sh_qiime_release_20.11.2016/developer/sh_refs_qiime_ver7_99_20.11.2016_dev.fasta'),\n",
    "                                join(reference_database_dir,\n",
    "                                     'sh_qiime_release_20.11.2016/developer/sh_taxonomy_qiime_ver7_99_20.11.2016_dev.txt'),\n",
    "                                \"ACCTGCGGARGGATCA\",\n",
    "                                \"GAGATCCRTTGYTRAAAGTT\",\n",
    "                                \"BITSf-B58S3r\"),\n",
    "                 'unite-7.1-ITS1Ff-ITS2r' : \n",
    "                     (join(reference_database_dir,\n",
    "                           'sh_qiime_release_20.11.2016/developer/sh_refs_qiime_ver7_99_20.11.2016_dev.fasta'),\n",
    "                      join(reference_database_dir,\n",
    "                           'sh_qiime_release_20.11.2016/developer/sh_taxonomy_qiime_ver7_99_20.11.2016_dev.txt'),\n",
    "                      \"CTTGGTCATTTAGAGGAAGTAA\",\n",
    "                      \"GCTGCGTTCTTCATCGATGC\",\n",
    "                      \"ITS1Ff-ITS2r\"),\n",
    "                 'silva_123' : (join(reference_database_dir,\n",
    "                                     'SILVA123_QIIME_release/rep_set/rep_set_16S_only/99/99_otus_16S.fasta'), \n",
    "                                join(reference_database_dir, \n",
    "                                     'SILVA123_QIIME_release/taxonomy/16S_only/99/majority_taxonomy_7_levels.txt'),\n",
    "                                \"GTGCCAGCMGCCGCGGTAA\", \n",
    "                                \"GGACTACNVGGGTWTCTAAT\",\n",
    "                                \"515f-806r\"),\n",
    "                 'silva_123_clean' : (join(reference_database_dir,\n",
    "                                     'SILVA123_QIIME_release/99_otus_16S_clean.fasta'), \n",
    "                                join(reference_database_dir, \n",
    "                                     'SILVA123_QIIME_release/majority_taxonomy_7_levels_clean.tsv'),\n",
    "                                \"GTGCCAGCMGCCGCGGTAA\", \n",
    "                                \"GGACTACNVGGGTWTCTAAT\",\n",
    "                                \"515f-806r\"),\n",
    "                }"
   ]
  },
  {
   "cell_type": "markdown",
   "metadata": {},
   "source": [
    "Now run the following cell. This will generate simulated amplicons from each reference sequence, trim the amplicons to ``read_length`` nt, and write out new files in the same location as the source files. Two files will be written: the simulated amplicons and the simulated reads. If the original file was called ``my_sequences.fasta``, amplicons were generated using 515f-806r and ``read_length`` = 250, the new amplicons will be called ``my_sequences_515f-806r.fasta`` and the new reads will be called ``my_sequences_515f-806r_trim250.fasta``. Sequences that do not align to the primer will be discarded, as will amplicons shorter than ``min_read_length``."
   ]
  },
  {
   "cell_type": "code",
   "execution_count": null,
   "metadata": {},
   "outputs": [],
   "source": [
    "for db, data in reference_dbs.items():\n",
    "    seqs, taxa, fwd_primer, rev_primer, primer_pair = data\n",
    "    base, ext = splitext(seqs)\n",
    "    reads_out = '{0}_{1}_trim{2}{3}'.format(base, primer_pair, read_length, '.qza')\n",
    "    classifier = '{0}_{1}_trim{2}_classifier.qza'.format(base, primer_pair, read_length)\n",
    "    taxa_out = splitext(taxa)[0] + '.qza'\n",
    "    if not exists(reads_out):\n",
    "        seqs_in = qiime2.Artifact.import_data(\"FeatureData[Sequence]\", seqs)\n",
    "        reads = feature_classifier.methods.extract_reads(\n",
    "            sequences=seqs_in, length=read_length, f_primer=fwd_primer, r_primer=rev_primer)\n",
    "        reads.reads.save(reads_out)\n",
    "        reads.reads.export_data(base)\n",
    "    else:\n",
    "        print('file exists: ' + reads_out)\n",
    "    ! qiime tools import --type 'FeatureData[Taxonomy]' --input-path {taxa} --output-path {taxa_out}\n",
    "    ! qiime feature-classifier fit-classifier-naive-bayes \\\n",
    "        --i-reference-reads {reads_out} \\\n",
    "        --i-reference-taxonomy {taxa_out} \\\n",
    "        --o-classifier {classifier}"
   ]
  },
  {
   "cell_type": "code",
   "execution_count": null,
   "metadata": {
    "collapsed": true
   },
   "outputs": [],
   "source": []
  }
 ],
 "metadata": {
  "anaconda-cloud": {},
  "kernelspec": {
   "display_name": "Python 3",
   "language": "python",
   "name": "python3"
  },
  "language_info": {
   "codemirror_mode": {
    "name": "ipython",
    "version": 3
   },
   "file_extension": ".py",
   "mimetype": "text/x-python",
   "name": "python",
   "nbconvert_exporter": "python",
   "pygments_lexer": "ipython3",
   "version": "3.5.4"
  }
 },
 "nbformat": 4,
 "nbformat_minor": 1
}
